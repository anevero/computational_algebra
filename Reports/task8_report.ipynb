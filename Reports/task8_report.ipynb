{
 "cells": [
  {
   "cell_type": "markdown",
   "metadata": {},
   "source": [
    "# Отчет: задание 3\n",
    "\n",
    "*Неверо Андрей, лабораторная работа 2, 2 курс, 4 группа*\n",
    "\n",
    "В задании требовалось написать программу, реализующую QR-алгоритм нахождения всех собственных значений и собственных векторов матрицы."
   ]
  },
  {
   "cell_type": "markdown",
   "metadata": {},
   "source": [
    "Решением данной задачи можно считать реализацию методов *CountUpperHessenbergMatrix*, *RunQRAlgorithmIteration*, *RunQrAlgorithm*, *GetEigenvectorsFromHessenbergMatrix* класса Matrix (см. соответствующий заголовочный файл), а также реализацию еще нескольких небольших вспомогательных методов, связанных с QR-разложением матриц.\n",
    "\n",
    "Обработка связанных с этим заданием входных данных вынесена в отдельный класс, определенный в заголовочном файле Task8."
   ]
  },
  {
   "cell_type": "markdown",
   "metadata": {},
   "source": [
    "## Описание алгоритма\n",
    "\n",
    "Реализована стандартная версия QR-алгоритма с использованием верхней формы Хессенберга и метода вращений (Гивенса). Исходная матрица приводится к данной форме, после чего запускается цикл итераций. В каждой итерации эффективно вычисляется QR-разложение текущей матрицы (используется тот факт, что матрица является почти треугольной), после чего происходит перемножение матриц R и Q.\n",
    "\n",
    "В качестве условия сходимости метода используется сравнение элементов на главной диагонали и на одной диагонали под ней с их значениями на предыдущей итерации.\n",
    "\n",
    "Асимптотическая сложность приведения матрицы к форме Хессенберга (что происходит однократно) - $O(n^3)$. Асимптотическая сложность каждой итерации - O(n^2) (такой асимптотики можно добиться благодаря тому, что умножение на матрицу поворота реализуется за линейное время).\n",
    "\n",
    "Как известно, если QR-алгоритм применим к матрице (то есть сходится), в результате мы получим почти треугольную матрицу с блоками на диагонали, причем по блокам можно будет восстановить все действительные и комплексные собственные значения матрицы. Данная возможность успешно реализована.\n",
    "\n",
    "Для симметрических матриц, все собственные значения которых действительны, дополнительно можно извлечь из итоговой матрицы поворотов все собственные вектора, соответствующие найденным значениям. Данная возможность также успешно реализована.\n",
    "Для несимметрических матриц возвращаемые вектора не будут собственными (они будут составлять ортогональный базис пространства). При необходимости в перспективе можно реализовать восстановление векторов для несимметрических матриц с помощью решения однородной системы линейных уравнений."
   ]
  },
  {
   "cell_type": "markdown",
   "metadata": {},
   "source": [
    "## Пункт 1\n",
    "\n",
    "С помощью алгоритма удалось найти все собственные значения заданной матрицы.\n",
    "\n",
    "$$ \\lambda \\in \\{-0.916368 + 3.92541i, -0.916368 - 3.92541i, 1.36208 + 3.66686i, 1.36208 - 3.66686i, -3.41571, 3.11316, -0.754739 + 1.26076i, -0.754739 - 1.26076i, 0.997202, -0.0765952 \\} $$\n",
    "\n",
    "Так как матрица не является симметрической, найти ее собственные вектора без дополнительных методов не представляется возможным."
   ]
  },
  {
   "cell_type": "markdown",
   "metadata": {},
   "source": [
    "## Пункт 2\n",
    "\n",
    "С помощью алгоритма удалось найти все собственные значения заданной матрицы.\n",
    "\n",
    "$$ \\lambda \\in \\{ 3.85232, -3.66921, -3.23279, 1.33293 + 2.80564i, 1.33293 - 2.80564i, -1.72285 + 2.52776i, -1.72285 - 2.52776i, 2.99193, -0.769187 + 2.73123i, -0.769187 - 2.73123i, 0.0924703 + 2.82532, 0.0924703 - 2.82532, 2.30574, -2.29641, 1.6423, 0.856813 + 1.06709, 0.856813 - 1.06709, -0.813381, -0.180424 + 0.311717, -0.180424 - 0.311717 \\} $$\n",
    "\n",
    "Так как матрица не является симметрической, найти ее собственные вектора без дополнительных методов не представляется возможным."
   ]
  },
  {
   "cell_type": "markdown",
   "metadata": {},
   "source": [
    "## Анализ времени работы алгоритма\n",
    "\n",
    "Как показало тестирование на практике, попытки анализа времени работы данного алгоритма для случайных матриц изначально обречены на провал. Все объективные выводы, что можно сделать, состоят в том, что чем больше матрица, и чем больше требуемая точность, тем дольше будет сходиться алгоритм. Какие-либо более точные оценки скорости сходимости, различий между размерами матриц, невозможны, так как случайные матрицы сходятся совершенно по-разному (а могут и вовсе не сходиться)."
   ]
  },
  {
   "cell_type": "markdown",
   "metadata": {},
   "source": [
    "Чтобы убедиться в этом, приведем график зависимости времени работы алгоритма от размера матрицы и требуемой точности. В качестве матриц использовались случайные матрицы с действительными собственными значениями (дабы вероятность получения корректного результата была выше). Они генерировались как $A = S^{-1} D S$, где $S$ - случайная матрица, $D$ - случайная диагональная матрица.\n",
    "\n",
    "Вертикальная ось графика - микросекунды, горизонтальная - размер матрицы (до 70 включительно, $n = 5k$). Графики разных цветов соответствуют разной требуемой точности:\n",
    "* Красный - точность до $0.0001$\n",
    "* Синий - точность до $0.000001$\n",
    "* Зеленый - точность до $0.00000001$\n",
    "\n",
    "Для каждого значения $n$ проводилось три теста, в качестве результата было взято среднее значение затраченного времени. Работа алгоритма прерывалась после $100000$ итераций. Соответствующие матрицы для каждой из точностей были одинаковы."
   ]
  },
  {
   "cell_type": "code",
   "execution_count": 1,
   "metadata": {},
   "outputs": [],
   "source": [
    "from data import task8\n",
    "import matplotlib\n",
    "%matplotlib inline"
   ]
  },
  {
   "cell_type": "code",
   "execution_count": 2,
   "metadata": {
    "scrolled": false,
    "tags": [
     "nbval-ignore-output"
    ]
   },
   "outputs": [
    {
     "data": {
      "image/png": "[encoded data removed]",
      "text/plain": [
       "<Figure size 432x288 with 1 Axes>"
      ]
     },
     "metadata": {
      "needs_background": "light"
     },
     "output_type": "display_data"
    }
   ],
   "source": [
    "bins = [i for i in range(5, 71, 5)]\n",
    "matplotlib.pyplot.title(\"qr algorithm\")\n",
    "matplotlib.pyplot.plot(bins, task8.four_numbers_time, 'r',\n",
    "                       bins, task8.six_numbers_time, 'b',\n",
    "                       bins, task8.eight_numbers_time, 'g')\n",
    "matplotlib.pyplot.show()"
   ]
  },
  {
   "cell_type": "markdown",
   "metadata": {},
   "source": [
    "Даже несмотря на то, что тестирование проводилось на диагонализируемых матрицах, бралось усредненное значение времени, и закцикливание алгоритма принудительно прерывалось, график имеет совершенно непонятный вид. Время работы скачет независимо от размеров матриц. Явно видно лишь то, что оно резко возрастает при $n > 40$ (возможно, это связано с кешированием). Кроме того, требуемая точность действительно может заметно повлиять на время работы алгоритма. "
   ]
  },
  {
   "cell_type": "markdown",
   "metadata": {},
   "source": [
    "## Размер матрицы, обрабатываемой за минуту\n",
    "\n",
    "Корректный и объективный ответ на этот вопрос невозможен по причинам, описанным выше. Можно лишь привести некоторые примеры.\n",
    "\n",
    "Диагонализируемую матрицу порядка $100$ с возмущенными элементами, равными по модулю от $1$ до $5000$, на моем компьютере алгоритм обрабатывает за 70 секунд с точностью до 14 знаков после точки. При уменьшении точности время работы алгоритма уменьшается."
   ]
  }
 ],
 "metadata": {
  "anaconda-cloud": {},
  "celltoolbar": "Tags",
  "kernelspec": {
   "display_name": "Python 3",
   "language": "python",
   "name": "python3"
  },
  "language_info": {
   "codemirror_mode": {
    "name": "ipython",
    "version": 3
   },
   "file_extension": ".py",
   "mimetype": "text/x-python",
   "name": "python",
   "nbconvert_exporter": "python",
   "pygments_lexer": "ipython3",
   "version": "3.7.3"
  }
 },
 "nbformat": 4,
 "nbformat_minor": 1
}
