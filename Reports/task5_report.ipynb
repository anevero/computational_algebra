{
 "cells": [
  {
   "cell_type": "markdown",
   "metadata": {},
   "source": [
    "# Отчет: задание 5\n",
    "\n",
    "*Неверо Андрей, лабораторная работа 1, 2 курс, 4 группа*\n",
    "\n",
    "В задании требовалось написать программу, которая с помощью метода релаксации решает системы уравнений вида:\n",
    "\n",
    "$$ A = \\begin{bmatrix}\n",
    "    n & 1 & 1 & \\ldots & 1 & 1 & 1 \\\\\n",
    "    1 & n & 0 & \\ldots & 0 & 0 & 1 \\\\\n",
    "    1 & 0 & n & \\ldots & 0 & 0 & 1 \\\\\n",
    "    \\ldots & \\ldots & \\ldots & \\ldots & \\ldots & \\ldots & \\ldots \\\\\n",
    "    1 & 0 & 0 & \\ldots & n & 0 & 1 \\\\\n",
    "    1 & 0 & 0 & \\ldots & 0 & n & 1 \\\\\n",
    "    1 & 1 & 1 & \\ldots & 1 & 1 & n\n",
    "\\end{bmatrix}, \\quad B = \\begin{bmatrix}\n",
    "    1 \\\\\n",
    "    1 \\\\\n",
    "    1 \\\\\n",
    "    \\ldots \\\\\n",
    "    1 \\\\\n",
    "    1 \\\\\n",
    "    1\n",
    "\\end{bmatrix} $$"
   ]
  },
  {
   "cell_type": "markdown",
   "metadata": {},
   "source": [
    "Решением данной задачи можно считать реализацию метода *SolveSystem* класса Task5 (см. соответствующий заголовочный файл).\n",
    "\n",
    "Методы, связанные с обработкой связанных с этим заданием данных, определены в этом же классе."
   ]
  },
  {
   "cell_type": "markdown",
   "metadata": {},
   "source": [
    "## Составление уравнения итераций\n",
    "\n",
    "Нетрудно заметить, что для матрицы $A$ выполнено достаточное условие сходимости метода релаксации (она является симметрической и положительно определенной). Составим уравнение метода Якоби, на базе которого построим уравнения метода релаксации.\n",
    "\n",
    "$$ B = \\begin{bmatrix}\n",
    "    0 & -\\frac{1}{n} & -\\frac{1}{n} & \\ldots & -\\frac{1}{n} & -\\frac{1}{n} & -\\frac{1}{n} \\\\\n",
    "    -\\frac{1}{n} & 0 & 0 & \\ldots & 0 & 0 & -\\frac{1}{n} \\\\\n",
    "    -\\frac{1}{n} & 0 & 0 & \\ldots & 0 & 0 & -\\frac{1}{n} \\\\\n",
    "    \\ldots & \\ldots & \\ldots & \\ldots & \\ldots & \\ldots & \\ldots \\\\\n",
    "    -\\frac{1}{n} & 0 & 0 & \\ldots & 0 & 0 & -\\frac{1}{n} \\\\\n",
    "    -\\frac{1}{n} & 0 & 0 & \\ldots & 0 & 0 & -\\frac{1}{n} \\\\\n",
    "    -\\frac{1}{n} & -\\frac{1}{n} & -\\frac{1}{n} & \\ldots & -\\frac{1}{n} & -\\frac{1}{n} & 0\n",
    "\\end{bmatrix}, \\quad g = \\begin{bmatrix}\n",
    "    \\frac{1}{n} \\\\\n",
    "    \\frac{1}{n} \\\\\n",
    "    \\frac{1}{n} \\\\\n",
    "    \\ldots \\\\\n",
    "    \\frac{1}{n} \\\\\n",
    "    \\frac{1}{n} \\\\\n",
    "    \\frac{1}{n}\n",
    "\\end{bmatrix} $$\n",
    "\n",
    "Имеем:\n",
    "\n",
    "$$ X^{k + 1} = B X^{k} + g $$\n",
    "\n",
    "Нетрудно теперь получить и уравнение метода релаксации."
   ]
  },
  {
   "cell_type": "markdown",
   "metadata": {},
   "source": [
    "## Свойства вектора $X^k$\n",
    "\n",
    "Заметим, что вектор $X^k$ обладает весьма специфичным свойством: все его элементы, кроме первого и последнего, попарно равны между собой (что при применении метода Якоби, что при применении методов Гаусса-Зейделя или релаксации). Действительно, рассмотрим вычисление некоторого $x^{k}_{i}$. Матрица $B$ имеет такой вид, что значение $x^{k}_{i}$ зависит только от значений $x^{k}_{0}$, $x^{k}_{0}$ и $x^{k}_{n - 1}$. Для его вычисления при использовании метода релаксации можно использовать формулу:\n",
    "\n",
    "$$ x^{k}_{i} = \\frac{1}{n} - \\frac{\\omega x^{k}_{0}}{n} - \\frac{(1 - \\omega) x^{k - 1}_{0}}{n} - \\frac{x^{k - 1}_{n - 1}}{n} = \\frac{1 - \\omega x^{k}_{0} - (1 - \\omega) x^{k - 1}_{0} - x^{k - 1}_{n - 1}}{n}, \\quad \\forall k = \\overline{1, \\ n - 2} $$\n",
    "\n",
    "Формулы для нахождения первой и последней координаты вектора также достаточно очевидны.\n",
    "\n",
    "$$ x^{k}_{0} = \\frac{1}{n} - \\frac{1}{n} \\sum_{i = 1}^{n - 1} x^{k - 1}_{i} = \\frac{1}{n} - \\frac{x^{k - 1}_{n - 1}}{n} - \\frac{(n - 2) x^{k - 1}_{i}}{n} = \\frac{1 - x^{k - 1}_{n - 1} - (n - 2) x^{k - 1}_{i}}{n}, \\quad \\forall i = \\overline{1, \\ n - 2} $$\n",
    "\n",
    "$$ x^{k}_{n - 1} = \\omega \\left(\\frac{1}{n} - \\frac{1}{n} \\sum_{i = 0}^{n - 2} x^{k}_{i}\\right) + (1 - \\omega) \\left(\\frac{1}{n} - \\frac{1}{n} \\sum_{i = 0}^{n - 2} x^{k - 1}_{i}\\right) = \\frac{1}{n} - \\frac{(n - 2) \\left(\\omega x^{k}_{i} + (1 - \\omega) x^{k - 1}_{i}\\right)}{n} - \\frac{\\omega x^{k}_{0} + (1 - \\omega) x^{k - 1}_{0}}{n} = $$\n",
    "\n",
    "$$ = \\frac{1 - (n - 2) \\left(\\omega x^{k}_{i} + (1 - \\omega) x^{k - 1}_{i}\\right) - \\omega x^{k}_{0} - (1 - \\omega) x^{k - 1}_{0}}{n}, \\quad \\forall i = \\overline{1, \\ n - 2} $$"
   ]
  },
  {
   "cell_type": "markdown",
   "metadata": {},
   "source": [
    "## Основная идея алгоритма\n",
    "\n",
    "Как видно, на каждой итерации нам достаточно хранить и проводить какие-то действия только над тремя элементами решения: над нулевым, над последним и над произвольным из оставшихся. Соответственно, алгоритм чрезвычайно прост: необходимо постоянно вычислять новые значения этих трех координат, используя приведенные выше формулы. Нетрудно видеть, что асимптотика одной итерации будет константной."
   ]
  },
  {
   "cell_type": "markdown",
   "metadata": {},
   "source": [
    "## Проверка критерия остановки итераций\n",
    "\n",
    "По условию задачи, критерий остановки итераций выглядит как:\n",
    "\n",
    "$$ \\|A X^{k} - b\\| < 10^{-10} $$\n",
    "\n",
    "Перемножение матрицы $A$ на вектор $X^{k}$ работает с асимптотикой $O(n^2)$. Воспользуемся свойствами матрицы и вектора, чтобы уменьшить асимптотику до константной.\n",
    "\n",
    "Нетрудно заметить, что нам достаточно посчитать три элемента итогового вектора: первый, последний и произвольный между ними. Имеем:\n",
    "\n",
    "$$ y^{k}_{0} = n x^{k}_{0} + (n - 2) x^{k}_{i} + x^{k}_{n - 1}, \\quad \\forall i = \\overline{1, \\ n - 2} $$\n",
    "\n",
    "$$ y^{k}_{i} = x^{k}_{0} + n x^{k}_{j} + x^{k}_{n - 1}, \\quad \\forall i, j = \\overline{1, \\ n - 2} $$\n",
    "\n",
    "$$ y^{k}_{n - 1} = x^{k}_{0} + (n - 2) x^{k}_{i} + n x^{k}_{n - 1}, \\quad \\forall i = \\overline{1, \\ n - 2} $$\n",
    "\n",
    "Если использовать максимум-норму, то критерий остановки итераций можно записать в виде:\n",
    "\n",
    "$$ \\begin{cases}\n",
    "    \\left|y^{k}_{0} - 1\\right| < 10^{-10} \\\\\n",
    "    \\left|y^{k}_{i} - 1\\right| < 10^{-10} \\\\\n",
    "    \\left|y^{k}_{n - 1} - 1\\right| < 10^{-10}\n",
    "\\end{cases} $$\n",
    "\n",
    "Как видно, проверить условия можно за константное время."
   ]
  },
  {
   "cell_type": "markdown",
   "metadata": {},
   "source": [
    "## Результаты для некоторых $n$\n",
    "\n",
    "В условии задачи требуется привести результаты работы алгоритма для $n = 500$, $n = 1000$, $n = 2000$, $n = 4000$.\n",
    "\n",
    "$$ n = 500 \\colon \\quad \\begin{bmatrix}\n",
    "    0.0000080159 \\\\\n",
    "    0.0019999679 \\\\\n",
    "    0.0019999679 \\\\\n",
    "    \\ldots \\\\\n",
    "    0.0019999679 \\\\\n",
    "    0.0019999679 \\\\\n",
    "    0.0000080159\n",
    "\\end{bmatrix} $$\n",
    "\n",
    "$$ n = 1000 \\colon \\quad \\begin{bmatrix}\n",
    "    0.0000020020 \\\\\n",
    "    0.0009999960 \\\\\n",
    "    0.0009999960 \\\\\n",
    "    \\ldots \\\\\n",
    "    0.0009999960 \\\\\n",
    "    0.0009999960 \\\\\n",
    "    0.0000020020\n",
    "\\end{bmatrix} $$\n",
    "\n",
    "$$ n = 2000 \\colon \\quad \\begin{bmatrix}\n",
    "    0.0000005002 \\\\\n",
    "    0.0004999995 \\\\\n",
    "    0.0004999995 \\\\\n",
    "    \\ldots \\\\\n",
    "    0.0004999995 \\\\\n",
    "    0.0004999995 \\\\\n",
    "    0.0000005002\n",
    "\\end{bmatrix} $$\n",
    "\n",
    "$$ n = 4000 \\colon \\quad \\begin{bmatrix}\n",
    "    0.0000001250 \\\\\n",
    "    0.0002499999 \\\\\n",
    "    0.0002499999 \\\\\n",
    "    \\ldots \\\\\n",
    "    0.0002499999 \\\\\n",
    "    0.0002499999 \\\\\n",
    "    0.0000001250\n",
    "\\end{bmatrix} $$\n"
   ]
  },
  {
   "cell_type": "markdown",
   "metadata": {},
   "source": [
    "## Анализ скорости работы алгоритма при разных $\\omega$\n",
    "\n",
    "Проанализируем количество итераций для пяти значений $\\omega$: $0.0, 0.5, 1.0, 1.5, 2.0$. Запустим алгоритм поиска решения для матриц размером $n = 50k$ до $4000$.\n",
    "\n",
    "Вертикальная ось графика - количество итераций, горизонтальная - размер матрицы. Расшифровки цветов графика (какой цвет соответствует конкретному $\\omega$) см. в коде, который отвечает за отрисовку графика."
   ]
  },
  {
   "cell_type": "code",
   "execution_count": 1,
   "metadata": {},
   "outputs": [],
   "source": [
    "from data import task5\n",
    "import matplotlib\n",
    "%matplotlib inline"
   ]
  },
  {
   "cell_type": "code",
   "execution_count": 2,
   "metadata": {},
   "outputs": [
    {
     "data": {
      "image/png": "[encoded data removed]",
      "text/plain": [
       "<Figure size 432x288 with 1 Axes>"
      ]
     },
     "metadata": {
      "needs_background": "light"
     },
     "output_type": "display_data"
    }
   ],
   "source": [
    "bins = [i for i in range(50, 4001, 50)]\n",
    "matplotlib.pyplot.title(\"omega from 0.0 to 2.0\")\n",
    "matplotlib.pyplot.plot(bins, task5.omega_0_0_iterations, 'r',\n",
    "                       bins, task5.omega_0_5_iterations, 'b',\n",
    "                       bins, task5.omega_1_0_iterations, 'g',\n",
    "                       bins, task5.omega_1_5_iterations, 'y',\n",
    "                       bins, task5.omega_2_0_iterations, 'k')\n",
    "matplotlib.pyplot.show()"
   ]
  },
  {
   "cell_type": "markdown",
   "metadata": {},
   "source": [
    "Нетрудно видеть, что лучше всего себя показывает значение $\\omega = 1.0$. Рассмотрим близкие к нему значения $\\omega$: $0.8, 1.0, 1.2$."
   ]
  },
  {
   "cell_type": "code",
   "execution_count": 3,
   "metadata": {},
   "outputs": [
    {
     "data": {
      "image/png": "[encoded data removed]",
      "text/plain": [
       "<Figure size 432x288 with 1 Axes>"
      ]
     },
     "metadata": {
      "needs_background": "light"
     },
     "output_type": "display_data"
    }
   ],
   "source": [
    "matplotlib.pyplot.title(\"omega from 0.8 to 1.2\")\n",
    "matplotlib.pyplot.plot(bins, task5.omega_0_8_iterations, 'r',\n",
    "                       bins, task5.omega_1_0_iterations, 'b',\n",
    "                       bins, task5.omega_1_2_iterations, 'g')\n",
    "matplotlib.pyplot.show()"
   ]
  },
  {
   "cell_type": "markdown",
   "metadata": {},
   "source": [
    "Как видно, значение $\\omega = 1$ все равно является наилучшим (то есть фактически метод релаксации сводится к методу Гаусса-Зейделя).\n",
    "\n",
    "Для обоснования данного факта можно попробовать проанализировать собственные значения матрицы итераций (оптимальное значение $\\omega$ зависит от них)."
   ]
  }
 ],
 "metadata": {
  "anaconda-cloud": {},
  "celltoolbar": "Tags",
  "kernelspec": {
   "display_name": "Python 3",
   "language": "python",
   "name": "python3"
  },
  "language_info": {
   "codemirror_mode": {
    "name": "ipython",
    "version": 3
   },
   "file_extension": ".py",
   "mimetype": "text/x-python",
   "name": "python",
   "nbconvert_exporter": "python",
   "pygments_lexer": "ipython3",
   "version": "3.7.3"
  }
 },
 "nbformat": 4,
 "nbformat_minor": 1
}
