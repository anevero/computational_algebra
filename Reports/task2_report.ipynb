{
 "cells": [
  {
   "cell_type": "markdown",
   "metadata": {},
   "source": [
    "# Отчет: задание 2\n",
    "\n",
    "*Неверо Андрей, лабораторная работа 1, 2 курс, 4 группа*\n",
    "\n",
    "В задании требовалось написать программу, которая может рассчитать TLU-разложение матрицы и с его помощью решить систему линейных уравнений, заданную в матричном виде (здесь под $T$ подразумевается матрица перестановок строк). Были заданы две системы, на которых требовалось протестировать программу."
   ]
  },
  {
   "cell_type": "markdown",
   "metadata": {},
   "source": [
    "Решением данной задачи можно считать реализацию методов *CountTluDecomposition*, *SolveSystem* и *CountInverseMatrix* класса Matrix (см. соответствующий заголовочный файл).\n",
    "\n",
    "Обработка связанных с этим заданием входных данных вынесена в отдельный класс, определенный в заголовочном файле *Task2*."
   ]
  },
  {
   "cell_type": "markdown",
   "metadata": {},
   "source": [
    "## Пункт 1\n",
    "\n",
    "Найденное первой системы выглядит следующим образом:\n",
    "\n",
    "$$ X = \\begin{bmatrix}\n",
    "        1 \\\\\n",
    "        2 \\\\\n",
    "        3 \\\\\n",
    "        4 \\\\\n",
    "        5 \\\\\n",
    "        6 \\\\\n",
    "        7 \\\\\n",
    "        8\n",
    "\\end{bmatrix} $$\n",
    "\n",
    "Как видно, программе удалось получить точное решение. Хотя при его вычислении использовался типа *long double*, относительно небольшое число обусловленности заданной матрицы (70830) позволяло надеяться на получение более-менее точного результата и при использовании, например, 32-разрядного типа *float*. И действительно, *float* вызвал лишь небольшое возмущение первых двух координат итогового вектора. Вывод с точностью до 10 знаков после запятой:\n",
    "\n",
    "$$ X = \\begin{bmatrix}\n",
    "        0.9999988675 \\\\\n",
    "        1.9999991655 \\\\\n",
    "        3.0000000000 \\\\\n",
    "        4.0000000000 \\\\\n",
    "        5.0000000000 \\\\\n",
    "        6.0000000000 \\\\\n",
    "        7.0000000000 \\\\\n",
    "        8.0000000000\n",
    "\\end{bmatrix} $$\n",
    "\n",
    "Впрочем, при возмущении вектора $B$ результаты определенно станут хуже. Немного подробнее это будет проанализировано в третьем пункте."
   ]
  },
  {
   "cell_type": "markdown",
   "metadata": {},
   "source": [
    "## Пункт 2\n",
    "\n",
    "Найденное решение второй системы выглядит следующим образом:\n",
    "\n",
    "$$ X = \\begin{bmatrix}\n",
    "        1 \\\\\n",
    "        1 \\\\\n",
    "        1 \\\\\n",
    "        1 \\\\\n",
    "        1 \\\\\n",
    "        1 \\\\\n",
    "        1 \\\\\n",
    "        1 \\\\\n",
    "        1\n",
    "\\end{bmatrix} $$\n",
    "\n",
    "Как и в предыдущем пункте, при использовании типа *long double* программе удалось получить точное решение. Так как число обусловленности заданной матрицы очень велико ($6.39 \\cdot 10^{10}$), логично предположить, что при переключении на 32-разрядный тип *float* точность результатов ухудшится. Так и есть. Результаты, полученные при использовании *float*, достаточно далеки от точных:\n",
    "\n",
    "$$ X = \\begin{bmatrix}\n",
    "        90.6177062988 \\\\\n",
    "        -237.6647949219 \\\\\n",
    "        251.0213623047 \\\\\n",
    "        -136.3011932373 \\\\\n",
    "        44.8452186584 \\\\\n",
    "        -7.4159960747 \\\\\n",
    "        1.9551106691 \\\\\n",
    "        0.9410537481 \\\\\n",
    "        1.0015225410\n",
    "\\end{bmatrix} $$\n",
    "\n",
    "Как отразится на точности решения возмущение вектора $B$?"
   ]
  },
  {
   "cell_type": "markdown",
   "metadata": {},
   "source": [
    "## Пункт 3\n",
    "\n",
    "Рассмотрим ту же матрицу $A$, что в пункте 2, но на этот раз будем случайным образом генерировать вещественные координаты вектора $B$. Будем проверять, насколько полученное решение $X$ точное, по норме вектора $B - AX$. В случае, если решение абсолютно точное, она должна быть равна нулю. Чем больше эта норма, тем больше погрешность.\n",
    "\n",
    "Для каждого из трех стандартных типов вещественных чисел в C++ (*float*, *double*, *long double*) анализируются результаты работы программы на 250 тестах. Каждый тест - это:\n",
    "\n",
    "1. Генерация вектора $B$ (модули его координат - случайные немного возмущенные числа от $1$ до $5000$).\n",
    "2. Решение системы $AX = B$.\n",
    "3. Подсчет нормы вектора $B - AX$.\n",
    "\n",
    "Полученные результаты представлены ниже."
   ]
  },
  {
   "cell_type": "code",
   "execution_count": 1,
   "metadata": {},
   "outputs": [],
   "source": [
    "from data import task2\n",
    "import matplotlib\n",
    "%matplotlib inline"
   ]
  },
  {
   "cell_type": "code",
   "execution_count": 2,
   "metadata": {
    "scrolled": true,
    "tags": [
     "nbval-ignore-output"
    ]
   },
   "outputs": [
    {
     "data": {
      "image/png": "[encoded data removed]",
      "text/plain": [
       "<Figure size 432x288 with 1 Axes>"
      ]
     },
     "metadata": {
      "needs_background": "light"
     },
     "output_type": "display_data"
    }
   ],
   "source": [
    "bins = [i for i in range(1, 500, 5)]\n",
    "matplotlib.pyplot.title(\"float\")\n",
    "matplotlib.pyplot.hist(task2.float_fault, bins)\n",
    "matplotlib.pyplot.show()"
   ]
  },
  {
   "cell_type": "code",
   "execution_count": 3,
   "metadata": {
    "scrolled": false,
    "tags": [
     "nbval-ignore-output"
    ]
   },
   "outputs": [
    {
     "data": {
      "image/png": "[encoded data removed]",
      "text/plain": [
       "<Figure size 432x288 with 1 Axes>"
      ]
     },
     "metadata": {
      "needs_background": "light"
     },
     "output_type": "display_data"
    }
   ],
   "source": [
    "bins = [i for i in range(1, 500, 5)]\n",
    "matplotlib.pyplot.title(\"double\")\n",
    "matplotlib.pyplot.hist(task2.double_fault, bins)\n",
    "matplotlib.pyplot.show()"
   ]
  },
  {
   "cell_type": "code",
   "execution_count": 4,
   "metadata": {
    "scrolled": true,
    "tags": [
     "nbval-ignore-output"
    ]
   },
   "outputs": [
    {
     "data": {
      "image/png": "[encoded data removed]",
      "text/plain": [
       "<Figure size 432x288 with 1 Axes>"
      ]
     },
     "metadata": {
      "needs_background": "light"
     },
     "output_type": "display_data"
    }
   ],
   "source": [
    "bins = [i for i in range(1, 500, 5)]\n",
    "matplotlib.pyplot.title(\"long double\")\n",
    "matplotlib.pyplot.hist(task2.long_double_fault, bins)\n",
    "matplotlib.pyplot.show()"
   ]
  },
  {
   "cell_type": "markdown",
   "metadata": {},
   "source": [
    "Как видно, погрешности типов *double* и *long double* оказались на порядки меньше, чем погрешности *float* (настолько, что не отображаются на гистограмме такого масштаба). Сразу можно сделать вывод, что использовать *float* в подобных вычислениях не следует.\n",
    "\n",
    "Приблизим гистограмму и рассмотрим различия между *double* и *long double*."
   ]
  },
  {
   "cell_type": "code",
   "execution_count": 5,
   "metadata": {},
   "outputs": [],
   "source": [
    "import numpy"
   ]
  },
  {
   "cell_type": "code",
   "execution_count": 6,
   "metadata": {
    "scrolled": false,
    "tags": [
     "nbval-ignore-output"
    ]
   },
   "outputs": [
    {
     "data": {
      "image/png": "[encoded data removed]",
      "text/plain": [
       "<Figure size 432x288 with 1 Axes>"
      ]
     },
     "metadata": {
      "needs_background": "light"
     },
     "output_type": "display_data"
    }
   ],
   "source": [
    "bins = [i for i in numpy.arange(0, 0.000001, 0.00000001)]\n",
    "matplotlib.pyplot.title(\"double\")\n",
    "matplotlib.pyplot.hist(task2.double_fault, bins)\n",
    "matplotlib.pyplot.show()"
   ]
  },
  {
   "cell_type": "code",
   "execution_count": 7,
   "metadata": {
    "scrolled": true,
    "tags": [
     "nbval-ignore-output"
    ]
   },
   "outputs": [
    {
     "data": {
      "image/png": "[encoded data removed]",
      "text/plain": [
       "<Figure size 432x288 with 1 Axes>"
      ]
     },
     "metadata": {
      "needs_background": "light"
     },
     "output_type": "display_data"
    }
   ],
   "source": [
    "bins = [i for i in numpy.arange(0, 0.000001, 0.00000001)]\n",
    "matplotlib.pyplot.title(\"long double\")\n",
    "matplotlib.pyplot.hist(task2.long_double_fault, bins)\n",
    "matplotlib.pyplot.show()"
   ]
  },
  {
   "cell_type": "markdown",
   "metadata": {},
   "source": [
    "Нетрудно заметить, что *double* начинает давать погрешности уже на шестом-седьмом знаке после точки, когда *long double* все еще выдает более-менее корректные результаты."
   ]
  },
  {
   "cell_type": "markdown",
   "metadata": {},
   "source": [
    "Окончательно получаем, что:\n",
    "1. Использовать *float* при решении плохо обусловленных систем не следует: получаемые погрешности слишком велики.\n",
    "2. Если хватает точности до нескольких знаков после запятой, можно использовать тип *double*: он широко поддерживается всеми компиляторами, операции с *double* обычно быстрее, чем операции с *long double*, по той причине, что модуль SSE процессора обрабатывает данные быстрее, чем математический сопроцессор FPU.\n",
    "3. Для максимальной точности следует использовать тип *long double* (или что-то еще более точное), который даже в условиях плохо обусловленной матрицы выдает относительно небольшие погрешности."
   ]
  },
  {
   "cell_type": "markdown",
   "metadata": {},
   "source": [
    "Следует дополнительно отметить, что полученные оценки погрешностей верны конкретно для нашей матрицы при использовании векторов $B$ с координатами, которые по модулю находятся между $1$ и $5000$. \n",
    "\n",
    "Можно провести дополнительные исследования абсолютных и относительных погрешностей, когда модули элементов матриц $A$ и $B$ сильно отличаются."
   ]
  }
 ],
 "metadata": {
  "anaconda-cloud": {},
  "celltoolbar": "Tags",
  "kernelspec": {
   "display_name": "Python 3",
   "language": "python",
   "name": "python3"
  },
  "language_info": {
   "codemirror_mode": {
    "name": "ipython",
    "version": 3
   },
   "file_extension": ".py",
   "mimetype": "text/x-python",
   "name": "python",
   "nbconvert_exporter": "python",
   "pygments_lexer": "ipython3",
   "version": "3.7.3"
  }
 },
 "nbformat": 4,
 "nbformat_minor": 1
}
