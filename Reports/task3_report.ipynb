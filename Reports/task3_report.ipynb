{
 "cells": [
  {
   "cell_type": "markdown",
   "metadata": {},
   "source": [
    "# Отчет: задание 3\n",
    "\n",
    "*Неверо Андрей, лабораторная работа 1, 2 курс, 4 группа*\n",
    "\n",
    "В задании требовалось написать программу, которая решает системы линейных уравнений с симметрическими матрицами с помощью LDL-разложения, и сравнить время ее работы с обычным алгоритмом TLU-разложения."
   ]
  },
  {
   "cell_type": "markdown",
   "metadata": {},
   "source": [
    "Решением данной задачи можно считать реализацию методов *CountLdlDecomposition_Symmetric* и *SolveSystem_Symmetric* класса Matrix (см. соответствующий заголовочный файл).\n",
    "\n",
    "Обработка связанных с этим заданием данных вынесена в отдельный класс, определенный в заголовочном файле *Task3*."
   ]
  },
  {
   "cell_type": "markdown",
   "metadata": {},
   "source": [
    "## Основная идея алгоритма\n",
    "\n",
    "Алгоритм LDL-разложения матрицы реализован на базе метода квадратного корня. Алгоритм решения системы линейных уравнений с помощью LDL-разложения также достаточно очевиден и абсолютно аналогичен алгоритму применения TLU-разложения для решения систем линейных уравнений."
   ]
  },
  {
   "cell_type": "markdown",
   "metadata": {},
   "source": [
    "## Сравнение времени работы алгоритмов\n",
    "\n",
    "Проанализируем время решения системы линейных уравнений с помощью TLU-разложения и с помощью LDL-разложения. Для этого воспользуемся функцией *RandomInput* в классе *Task3*.\n",
    "\n",
    "Данная функция генерирует случайную симметрическую матрицу определенного размера (значения в матрице - возмущенные от $1$ до $5000$), а также вектор $b$, после чего подсчитывает время работы соответствующих алгоритмов по решению СЛАУ для типа *double*.\n",
    "\n",
    "Данная функция запускалась для матриц размером до $2000$ (с интервалом в $50$). Для каждого размера проводилось 5 тестов, подсчитывались средние значения затраченного времени. Полученные результаты можно увидеть ниже. График красного цвета - график работы TLU-алгоритма, синего цвета - LDL-алгоритма. Величины на оси слева - микросекунды."
   ]
  },
  {
   "cell_type": "code",
   "execution_count": 1,
   "metadata": {},
   "outputs": [],
   "source": [
    "from data import task3\n",
    "import matplotlib\n",
    "%matplotlib inline"
   ]
  },
  {
   "cell_type": "code",
   "execution_count": 2,
   "metadata": {
    "scrolled": true,
    "tags": [
     "nbval-ignore-output"
    ]
   },
   "outputs": [
    {
     "data": {
      "image/png": "[encoded data removed]",
      "text/plain": [
       "<Figure size 432x288 with 1 Axes>"
      ]
     },
     "metadata": {
      "needs_background": "light"
     },
     "output_type": "display_data"
    }
   ],
   "source": [
    "bins = [i for i in range(50, 2001, 50)]\n",
    "matplotlib.pyplot.title(\"TLU vs. LDL\")\n",
    "matplotlib.pyplot.plot(bins, task3.double_tlu_time, 'r', bins, task3.double_ldl_time, 'b')\n",
    "matplotlib.pyplot.show()"
   ]
  },
  {
   "cell_type": "markdown",
   "metadata": {},
   "source": [
    "Как видно, начиная с матриц размером $n \\approx 750$, LDL-алгоритм работает примерно в два раза быстрее, чем TLU-алгоритм. Это легко объяснить: благодаря свойству симметричности мы вычисляем в два раза меньше значений, отсюда и выигрыш во времени."
   ]
  }
 ],
 "metadata": {
  "anaconda-cloud": {},
  "celltoolbar": "Tags",
  "kernelspec": {
   "display_name": "Python 3",
   "language": "python",
   "name": "python3"
  },
  "language_info": {
   "codemirror_mode": {
    "name": "ipython",
    "version": 3
   },
   "file_extension": ".py",
   "mimetype": "text/x-python",
   "name": "python",
   "nbconvert_exporter": "python",
   "pygments_lexer": "ipython3",
   "version": "3.7.3"
  }
 },
 "nbformat": 4,
 "nbformat_minor": 1
}
